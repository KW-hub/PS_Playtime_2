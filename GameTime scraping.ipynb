{
 "cells": [
  {
   "cell_type": "code",
   "execution_count": 1,
   "id": "b8013f56",
   "metadata": {},
   "outputs": [],
   "source": [
    "from selenium import webdriver\n",
    "from selenium.webdriver.support.select import Select\n",
    "from selenium.webdriver.common.by import By\n",
    "from bs4 import BeautifulSoup\n",
    "import urllib.request as req\n",
    "from pathlib import Path\n",
    "from urllib.request import urlopen\n",
    "\n",
    "import csv\n",
    "import time\n",
    "import pandas as pd\n",
    "import numpy as np"
   ]
  },
  {
   "cell_type": "code",
   "execution_count": 2,
   "id": "a66d5146",
   "metadata": {},
   "outputs": [],
   "source": [
    "driver = webdriver.Chrome(executable_path = '●●\\\\chromedriver.exe')\n",
    "\n",
    "#URLを開く\n",
    "driver.get('https://howlongtobeat.com/stats')\n",
    "time.sleep(3)"
   ]
  },
  {
   "cell_type": "code",
   "execution_count": 3,
   "id": "3b1ae9cc",
   "metadata": {
    "scrolled": true
   },
   "outputs": [],
   "source": [
    "#PS1情報取得用\n",
    "#ドロップダウンリストを取得\n",
    "dropdown = driver.find_element(By.XPATH,'//*[@id=\"stats_filter\"]/form/div[1]/select')\n",
    "\n",
    "#ドロップダウンリストからPSを選択\n",
    "select= Select(dropdown)\n",
    "select.select_by_value('PlayStation')\n",
    "time.sleep(5)\n",
    "\n",
    "#aタグのURLを取得\n",
    "elements = driver.find_elements(By.XPATH, \"//a[@href]\")\n",
    "\n",
    "for element in elements:\n",
    "    print(element.get_attribute('href'))"
   ]
  },
  {
   "cell_type": "code",
   "execution_count": null,
   "id": "450d48ea",
   "metadata": {},
   "outputs": [],
   "source": [
    "#PS2情報取得用\n",
    "#ドロップダウンリストを取得\n",
    "dropdown = driver.find_element(By.XPATH,'//*[@id=\"stats_filter\"]/form/div[1]/select')\n",
    "\n",
    "#ドロップダウンリストからPS2を選択\n",
    "select= Select(dropdown)\n",
    "select.select_by_value('PlayStation 2')\n",
    "time.sleep(5)\n",
    "\n",
    "#aタグのURLを取得\n",
    "elements = driver.find_elements(By.XPATH, \"//a[@href]\")\n",
    "\n",
    "for element in elements:\n",
    "    print(element.get_attribute('href'))"
   ]
  },
  {
   "cell_type": "code",
   "execution_count": 4,
   "id": "b860b89e",
   "metadata": {},
   "outputs": [],
   "source": [
    "#PS3情報取得用\n",
    "#ドロップダウンリストを取得\n",
    "dropdown = driver.find_element(By.XPATH,'//*[@id=\"stats_filter\"]/form/div[1]/select')\n",
    "\n",
    "#ドロップダウンリストからPS3を選択\n",
    "select= Select(dropdown)\n",
    "select.select_by_value('PlayStation 3')\n",
    "time.sleep(5)\n",
    "\n",
    "#aタグのURLを取得\n",
    "elements = driver.find_elements(By.XPATH, \"//a[@href]\")\n",
    "\n",
    "for element in elements:\n",
    "    print(element.get_attribute('href'))"
   ]
  },
  {
   "cell_type": "code",
   "execution_count": 5,
   "id": "74551a24",
   "metadata": {},
   "outputs": [],
   "source": [
    "#PS4情報取得用\n",
    "#ドロップダウンリストを取得\n",
    "dropdown = driver.find_element(By.XPATH,'//*[@id=\"stats_filter\"]/form/div[1]/select')\n",
    "\n",
    "#ドロップダウンリストからPS4を選択\n",
    "select= Select(dropdown)\n",
    "select.select_by_value('PlayStation 4')\n",
    "time.sleep(5)\n",
    "\n",
    "#aタグのURLを取得\n",
    "elements = driver.find_elements(By.XPATH, \"//a[@href]\")\n",
    "\n",
    "for element in elements:\n",
    "    print(element.get_attribute('href'))"
   ]
  },
  {
   "cell_type": "code",
   "execution_count": 6,
   "id": "a33963ec",
   "metadata": {},
   "outputs": [],
   "source": [
    "#PS5情報取得用\n",
    "#ドロップダウンリストを取得\n",
    "dropdown = driver.find_element(By.XPATH,'//*[@id=\"stats_filter\"]/form/div[1]/select')\n",
    "\n",
    "#ドロップダウンリストからPS5を選択\n",
    "select= Select(dropdown)\n",
    "select.select_by_value('PlayStation 5')\n",
    "time.sleep(5)\n",
    "\n",
    "#aタグのURLを取得\n",
    "elements = driver.find_elements(By.XPATH, \"//a[@href]\")\n",
    "\n",
    "for element in elements:\n",
    "    print(element.get_attribute('href'))"
   ]
  },
  {
   "cell_type": "code",
   "execution_count": 4,
   "id": "d5a8f074",
   "metadata": {},
   "outputs": [],
   "source": [
    "#filepathのURLはファイル名にあわせて適宜修正する\n",
    "#上で取得したURLを張り付けたcsvファイルを以下のパスに作成してからこれを実行する\n",
    "filepath = open(r\"●●.csv\", 'r',encoding=\"utf-8\")\n",
    "\n",
    "url_list = []\n",
    "for row in csv.reader(filepath):\n",
    "    url_list.append(row[2])\n",
    "\n",
    "del url_list[0]\n",
    "\n",
    "table_list = []\n",
    "avgTime_list = []\n",
    "avgTime = []\n",
    "\n",
    "for url in url_list:\n",
    "    if url is not None:\n",
    "        #URL先のtableの中身がリスト形式で返ってくる\n",
    "        data = pd.read_html(url,header=0)\n",
    "        \n",
    "        #dataの中にSingle Playerの文字列が含まれるtableをdata_listに追加\n",
    "        data_list = [s for s in data if 'Single-Player' in s]\n",
    "\n",
    "        #Main Storyの欄がない場合な'nothing'を行に追加する\n",
    "        if len(data_list) == 0:\n",
    "            avgTime_list.append(\"nothing\")\n",
    "        else:\n",
    "            for i in range(len(data_list)):\n",
    "                avgTime_list.append(data_list[i]['Average'])            \n",
    "    else:\n",
    "        pass\n",
    "        \n",
    "for j in range(len(avgTime_list)):\n",
    "    avgTime.append(avgTime_list[j][0])"
   ]
  },
  {
   "cell_type": "code",
   "execution_count": 7,
   "id": "cfc068fe",
   "metadata": {},
   "outputs": [],
   "source": [
    "#取得したMain Storyのデータをcsvファイルに書き出す\n",
    "b = np.reshape(avgTime, (len(avgTime),1))\n",
    "\n",
    "#●の部分は適宜修正\n",
    "f = open('ps●data.csv', 'w', newline=\"\")\n",
    "writer = csv.writer(f)\n",
    "writer.writerows(b)\n",
    "f.close()"
   ]
  }
 ],
 "metadata": {
  "kernelspec": {
   "display_name": "Python 3 (ipykernel)",
   "language": "python",
   "name": "python3"
  },
  "language_info": {
   "codemirror_mode": {
    "name": "ipython",
    "version": 3
   },
   "file_extension": ".py",
   "mimetype": "text/x-python",
   "name": "python",
   "nbconvert_exporter": "python",
   "pygments_lexer": "ipython3",
   "version": "3.9.12"
  }
 },
 "nbformat": 4,
 "nbformat_minor": 5
}
